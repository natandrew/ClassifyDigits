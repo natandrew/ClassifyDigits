{
 "cells": [
  {
   "cell_type": "code",
   "execution_count": null,
   "id": "d9d88ae8-523f-43f7-a965-189ef6d130c0",
   "metadata": {},
   "outputs": [],
   "source": [
    "from sklearn.datasets import load_digits\n",
    "import matplotlib.pyplot as plt\n",
    "from sklearn.model_selection import train_test_split\n",
    "from sklearn.neighbors import KNeighborsClassifier\n",
    "from sklearn.metrics import classification_report, confusion_matrix"
   ]
  },
  {
   "cell_type": "code",
   "execution_count": null,
   "id": "2c724761-28f5-4694-9454-3bdeaf69a9b6",
   "metadata": {},
   "outputs": [],
   "source": [
    "#Visualizing a digit form dataset \n",
    "digits = load_digits()\n",
    "plt.gray()\n",
    "plt.matshow(digits.images[0])\n",
    "plt.show()"
   ]
  },
  {
   "cell_type": "code",
   "execution_count": null,
   "id": "d9f1c6e8-b221-4308-b5c3-7d41d3cc6850",
   "metadata": {},
   "outputs": [],
   "source": [
    "X = digits.data\n",
    "y = digits.target\n",
    "X_train, X_test, y_train, y_test = train_test_split(X, y, test_size=0.2, random_state=42)"
   ]
  },
  {
   "cell_type": "code",
   "execution_count": null,
   "id": "81ba8942-441f-449a-bba0-e7336170dff5",
   "metadata": {},
   "outputs": [],
   "source": [
    "KNN = KNeighborsClassifier(n_neighbors=7)\n",
    "KNN.fit(X_train, y_train)\n",
    "y_pred = KNN.predict(X_test)"
   ]
  },
  {
   "cell_type": "code",
   "execution_count": null,
   "id": "0cb3e0e8-c5e5-45a2-98fc-a2b3e7abb1cd",
   "metadata": {},
   "outputs": [],
   "source": [
    "#Evaluation\n",
    "print('Classification report:', classification_report(y_test, y_pred))\n",
    "cm = confusion_matrix(y_test, y_pred)\n",
    "\n",
    "plt.figure(figsize=(8, 6))\n",
    "plt.imshow(cm, cmap='Blues')\n",
    "plt.colorbar()\n",
    "plt.title('Confusion Matrix')\n",
    "plt.xlabel('Predicted label')\n",
    "plt.ylabel('Actual label')\n",
    "plt.show()"
   ]
  },
  {
   "cell_type": "code",
   "execution_count": null,
   "id": "4e6a541c-9019-47c6-99b7-37a9b057ecb9",
   "metadata": {},
   "outputs": [],
   "source": [
    "#Sample testing\n",
    "sample_index = 2\n",
    "plt.matshow(X_test[sample_index].reshape(8, 8))\n",
    "plt.show()\n",
    "\n",
    "print('Predicted label:', KNN.predict([X_test[sample_index]]))\n",
    "print('Actual labe:', y_test[sample_index])"
   ]
  }
 ],
 "metadata": {
  "kernelspec": {
   "display_name": "Python 3 (ipykernel)",
   "language": "python",
   "name": "python3"
  },
  "language_info": {
   "codemirror_mode": {
    "name": "ipython",
    "version": 3
   },
   "file_extension": ".py",
   "mimetype": "text/x-python",
   "name": "python",
   "nbconvert_exporter": "python",
   "pygments_lexer": "ipython3",
   "version": "3.12.7"
  }
 },
 "nbformat": 4,
 "nbformat_minor": 5
}
